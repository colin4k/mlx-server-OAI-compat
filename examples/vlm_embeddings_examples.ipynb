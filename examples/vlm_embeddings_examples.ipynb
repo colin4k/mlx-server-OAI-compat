{
 "cells": [
  {
   "cell_type": "markdown",
   "metadata": {},
   "source": [
    "# VLM-Embeddings API Examples with MLX Server"
   ]
  },
  {
   "cell_type": "markdown",
   "metadata": {},
   "source": [
    "This notebook demonstrates how to use the embeddings endpoint of MLX Server through the OpenAI-compatible API. You'll learn how to generate embeddings, work with batches, compare similarity between texts, and use embeddings for practical applications."
   ]
  },
  {
   "cell_type": "markdown",
   "metadata": {},
   "source": [
    "1. Setup and Connection\n",
    "\n",
    "- Shows how to connect to the MLX Server using the OpenAI Python client.\n",
    "- Uses a local server endpoint (http://localhost:8000/v1) and a placeholder API key."
   ]
  },
  {
   "cell_type": "code",
   "execution_count": 24,
   "metadata": {},
   "outputs": [],
   "source": [
    "# Import the OpenAI client for API communication\n",
    "from openai import OpenAI\n",
    "\n",
    "# Connect to the local MLX Server with OpenAI-compatible API\n",
    "client = OpenAI(\n",
    "    base_url=\"http://localhost:8000/v1\",\n",
    "    api_key=\"fake-api-key\",\n",
    ")"
   ]
  },
  {
   "cell_type": "markdown",
   "metadata": {},
   "source": [
    "## Single Text-Image Embedding\n"
   ]
  },
  {
   "cell_type": "code",
   "execution_count": 25,
   "metadata": {},
   "outputs": [],
   "source": [
    "from PIL import Image\n",
    "from io import BytesIO\n",
    "import base64"
   ]
  },
  {
   "cell_type": "code",
   "execution_count": 26,
   "metadata": {},
   "outputs": [],
   "source": [
    "# To send images to the API, we need to convert them to base64-encoded strings in a data URI format.\n",
    "\n",
    "def image_to_base64(image: Image.Image):\n",
    "    \"\"\"\n",
    "    Convert a PIL Image to a base64-encoded data URI string that can be sent to the API.\n",
    "    \n",
    "    Args:\n",
    "        image: A PIL Image object\n",
    "        \n",
    "    Returns:\n",
    "        A data URI string with the base64-encoded image\n",
    "    \"\"\"\n",
    "    # Convert image to bytes\n",
    "    buffer = BytesIO()\n",
    "    image.save(buffer, format=\"PNG\")\n",
    "    buffer.seek(0)\n",
    "    image_data = buffer.getvalue()\n",
    "    \n",
    "    # Encode as base64\n",
    "    image_base64 = base64.b64encode(image_data).decode('utf-8')\n",
    "    \n",
    "    # Create the data URI format required by the API\n",
    "    mime_type = \"image/png\"  \n",
    "    image_uri = f\"data:{mime_type};base64,{image_base64}\"\n",
    "    \n",
    "    return image_uri"
   ]
  },
  {
   "cell_type": "code",
   "execution_count": 27,
   "metadata": {},
   "outputs": [],
   "source": [
    "image = Image.open(\"images/attention.png\")\n",
    "image_uri = image_to_base64(image)"
   ]
  },
  {
   "cell_type": "code",
   "execution_count": 28,
   "metadata": {},
   "outputs": [],
   "source": [
    "# Generate embedding for a single text input\n",
    "single_text = \"Describe the image in detail\"\n",
    "response = client.embeddings.create(\n",
    "    input=[single_text],\n",
    "    model=\"mlx-community/Qwen2.5-VL-3B-Instruct-4bit\",\n",
    "    extra_body = {\n",
    "        \"image_url\": image_uri\n",
    "    }\n",
    ")"
   ]
  },
  {
   "cell_type": "code",
   "execution_count": 29,
   "metadata": {},
   "outputs": [
    {
     "name": "stdout",
     "output_type": "stream",
     "text": [
      "2048\n"
     ]
    }
   ],
   "source": [
    "print(len(response.data[0].embedding))"
   ]
  },
  {
   "cell_type": "code",
   "execution_count": null,
   "metadata": {},
   "outputs": [],
   "source": []
  }
 ],
 "metadata": {
  "kernelspec": {
   "display_name": "Python 3",
   "language": "python",
   "name": "python3"
  },
  "language_info": {
   "codemirror_mode": {
    "name": "ipython",
    "version": 3
   },
   "file_extension": ".py",
   "mimetype": "text/x-python",
   "name": "python",
   "nbconvert_exporter": "python",
   "pygments_lexer": "ipython3",
   "version": "3.11.12"
  }
 },
 "nbformat": 4,
 "nbformat_minor": 2
}
